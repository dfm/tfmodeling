{
 "cells": [
  {
   "cell_type": "code",
   "execution_count": 1,
   "metadata": {},
   "outputs": [
    {
     "name": "stderr",
     "output_type": "stream",
     "text": [
      "/Users/dforeman/anaconda/lib/python3.6/site-packages/h5py/__init__.py:36: FutureWarning: Conversion of the second argument of issubdtype from `float` to `np.floating` is deprecated. In future, it will be treated as `np.float64 == np.dtype(float).type`.\n",
      "  from ._conv import register_converters as _register_converters\n"
     ]
    }
   ],
   "source": [
    "import numpy as np\n",
    "import tensorflow as tf\n",
    "\n",
    "import tfmodeling as tfm\n",
    "\n",
    "session = tf.InteractiveSession()"
   ]
  },
  {
   "cell_type": "code",
   "execution_count": 22,
   "metadata": {},
   "outputs": [],
   "source": [
    "T = tf.float64\n",
    "\n",
    "param1 = tfm.Parameter(0.1, bounds=(0, 10), name=\"param1\", dtype=T)\n",
    "param2 = tfm.Parameter(0.0, bounds=(-1, 1), name=\"param2\", dtype=T)\n",
    "param3 = tfm.UnitVector(np.random.randn(5), dtype=T)\n",
    "param4 = tf.Variable(0.5, name=\"param4\", dtype=T)\n",
    "\n",
    "target = tf.square(param1.value + param2.value + param3.value + param4)\n",
    "\n",
    "session.run(tf.global_variables_initializer())\n",
    "\n",
    "model = tfm.Model(target, [param1, param2, param3, param4])"
   ]
  },
  {
   "cell_type": "code",
   "execution_count": 23,
   "metadata": {},
   "outputs": [
    {
     "data": {
      "text/plain": [
       "array([-0.55376855,  0.55838079,  0.61242944, -0.07692625, -0.02374479])"
      ]
     },
     "execution_count": 23,
     "metadata": {},
     "output_type": "execute_result"
    }
   ],
   "source": [
    "param3.eval()"
   ]
  },
  {
   "cell_type": "code",
   "execution_count": 20,
   "metadata": {},
   "outputs": [
    {
     "data": {
      "text/plain": [
       "{<tf.Variable 'param1_3/parameter:0' shape=() dtype=float64_ref>: array(-4.59511985),\n",
       " <tf.Variable 'param2_3/parameter:0' shape=() dtype=float64_ref>: array(0.),\n",
       " <tf.Variable 'UnitVector_3/x:0' shape=(2,) dtype=float64_ref>: array([0.1, 0.2]),\n",
       " <tf.Variable 'param4_3:0' shape=() dtype=float64_ref>: array(0.5)}"
      ]
     },
     "execution_count": 20,
     "metadata": {},
     "output_type": "execute_result"
    }
   ],
   "source": [
    "model.vector_to_feed_dict(model.current_vector())"
   ]
  },
  {
   "cell_type": "code",
   "execution_count": 21,
   "metadata": {},
   "outputs": [
    {
     "data": {
      "text/plain": [
       "array([ 0.50324488,  2.54164079,  2.14662526, -1.07331263,  5.08328157])"
      ]
     },
     "execution_count": 21,
     "metadata": {},
     "output_type": "execute_result"
    }
   ],
   "source": [
    "model.gradient(model.current_vector())"
   ]
  },
  {
   "cell_type": "code",
   "execution_count": null,
   "metadata": {},
   "outputs": [],
   "source": []
  }
 ],
 "metadata": {
  "kernelspec": {
   "display_name": "Python 3",
   "language": "python",
   "name": "python3"
  },
  "language_info": {
   "codemirror_mode": {
    "name": "ipython",
    "version": 3
   },
   "file_extension": ".py",
   "mimetype": "text/x-python",
   "name": "python",
   "nbconvert_exporter": "python",
   "pygments_lexer": "ipython3",
   "version": "3.6.1"
  }
 },
 "nbformat": 4,
 "nbformat_minor": 2
}
